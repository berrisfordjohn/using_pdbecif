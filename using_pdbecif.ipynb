{
 "cells": [
  {
   "cell_type": "markdown",
   "metadata": {},
   "source": []
  },
  {
   "cell_type": "code",
   "execution_count": 8,
   "metadata": {},
   "outputs": [
    {
     "name": "stdout",
     "output_type": "stream",
     "text": [
      "CifFile: <CifFile \"1a3n.cif\">\n"
     ]
    }
   ],
   "source": [
    "from mmCif import mmcifIO\n",
    "#from mmcifIO import mmcifIO\n",
    "# load the mmCIF parser\n",
    "cfr = mmcifIO.CifFileReader(input='dictionary')\n",
    "# read an mmCIF file\n",
    "cif_file = cfr.read(\"1a3n.cif\", output='cif_file')\n"
   ]
  },
  {
   "cell_type": "markdown",
   "metadata": {},
   "source": [
    "mmCIF files are organised into \n",
    "DataBlocks --> Categories --> Items\n",
    "The data we want in PDB mmCIF files is in the first (and in most cases) the only DataBlock"
   ]
  },
  {
   "cell_type": "code",
   "execution_count": 9,
   "metadata": {},
   "outputs": [],
   "source": [
    "mmCIF_data = cif_file.getDataBlocks()[0]"
   ]
  },
  {
   "cell_type": "markdown",
   "metadata": {},
   "source": [
    "Entity information is stored witin the mmCIF category entity"
   ]
  },
  {
   "cell_type": "code",
   "execution_count": 13,
   "metadata": {},
   "outputs": [
    {
     "name": "stdout",
     "output_type": "stream",
     "text": [
      "Entity information: <Category \"_entity\" with items ['id', 'type', 'src_method', 'pdbx_description', 'formula_weight', 'pdbx_number_of_molecules', 'pdbx_ec', 'pdbx_mutation', 'pdbx_fragment', 'details']>\n"
     ]
    }
   ],
   "source": [
    "entity_category = mmCIF_data.getCategory('entity')\n",
    "\n",
    "print(\"Entity information:\", entity_category)"
   ]
  },
  {
   "cell_type": "code",
   "execution_count": null,
   "metadata": {},
   "outputs": [],
   "source": [
    "The items within a category can be "
   ]
  },
  {
   "cell_type": "code",
   "execution_count": 18,
   "metadata": {},
   "outputs": [
    {
     "name": "stdout",
     "output_type": "stream",
     "text": [
      "['id', 'type', 'src_method', 'pdbx_description', 'formula_weight', 'pdbx_number_of_molecules', 'pdbx_ec', 'pdbx_mutation', 'pdbx_fragment', 'details']\n"
     ]
    }
   ],
   "source": [
    "entity_items = entity_category.getItemNames()\n",
    "print(entity_items)"
   ]
  },
  {
   "cell_type": "markdown",
   "metadata": {},
   "source": [
    "Entity names are stored in _entity.pdbx_description item"
   ]
  },
  {
   "cell_type": "code",
   "execution_count": 16,
   "metadata": {},
   "outputs": [
    {
     "name": "stdout",
     "output_type": "stream",
     "text": [
      "['HEMOGLOBIN (ALPHA CHAIN)', 'HEMOGLOBIN (BETA CHAIN)', 'PROTOPORPHYRIN IX CONTAINING FE', 'water']\n"
     ]
    }
   ],
   "source": [
    "entity_names = entity_category.getItem('pdbx_description').value\n",
    "print(entity_names)"
   ]
  },
  {
   "cell_type": "markdown",
   "metadata": {},
   "source": [
    "only some of these are polymers"
   ]
  },
  {
   "cell_type": "code",
   "execution_count": 17,
   "metadata": {},
   "outputs": [
    {
     "name": "stdout",
     "output_type": "stream",
     "text": [
      "['polymer', 'polymer', 'non-polymer', 'water']\n"
     ]
    }
   ],
   "source": [
    "entity_types = entity_category.getItem('type').value\n",
    "print(entity_types)"
   ]
  },
  {
   "cell_type": "markdown",
   "metadata": {},
   "source": [
    "Their IDs are available in the ID item"
   ]
  },
  {
   "cell_type": "code",
   "execution_count": 37,
   "metadata": {},
   "outputs": [
    {
     "name": "stdout",
     "output_type": "stream",
     "text": [
      "['1', '2', '3', '4']\n"
     ]
    }
   ],
   "source": [
    "entity_ids = entity_category.getItem('id').value\n",
    "print(entity_ids)"
   ]
  },
  {
   "cell_type": "markdown",
   "metadata": {},
   "source": [
    "We can get data for all items with a simple function"
   ]
  },
  {
   "cell_type": "code",
   "execution_count": 29,
   "metadata": {},
   "outputs": [],
   "source": [
    "def get_cat_dict_values(category_object):\n",
    "    result = dict()\n",
    "    items = category_object.getItemNames()\n",
    "    if items:\n",
    "        for item in items:\n",
    "            values = category_object.getItem(item).value\n",
    "            # the mmCIF parser will return a string for a single value - here we convert it to a list so its consistent\n",
    "            if not isinstance(values, list):\n",
    "               values = [values]\n",
    "            result[item] = values\n",
    "    return result"
   ]
  },
  {
   "cell_type": "code",
   "execution_count": 28,
   "metadata": {},
   "outputs": [
    {
     "name": "stdout",
     "output_type": "stream",
     "text": [
      "{'id': ['1', '2', '3', '4'], 'type': ['polymer', 'polymer', 'non-polymer', 'water'], 'src_method': ['nat', 'nat', 'syn', 'nat'], 'pdbx_description': ['HEMOGLOBIN (ALPHA CHAIN)', 'HEMOGLOBIN (BETA CHAIN)', 'PROTOPORPHYRIN IX CONTAINING FE', 'water'], 'formula_weight': ['15150.353', '15890.198', '616.487', '18.015'], 'pdbx_number_of_molecules': ['2', '2', '4', '451'], 'pdbx_ec': ['?', '?', '?', '?'], 'pdbx_mutation': ['?', '?', '?', '?'], 'pdbx_fragment': ['?', '?', '?', '?'], 'details': ['?', '?', '?', '?']}\n"
     ]
    }
   ],
   "source": [
    "category_data = get_cat_dict_values(entity_category)\n",
    "print(category_data)"
   ]
  },
  {
   "cell_type": "markdown",
   "metadata": {},
   "source": [
    "We can change this to a list of dictionaries if this is more convient"
   ]
  },
  {
   "cell_type": "code",
   "execution_count": 34,
   "metadata": {},
   "outputs": [],
   "source": [
    "def get_cat_list_of_dict(category_object):\n",
    "    result = list()\n",
    "    items = category_object.getItemNames()\n",
    "    values_in_lists = get_cat_dict_values(category_object)\n",
    "    if items and values_in_lists:\n",
    "        num_values = len(values_in_lists[items[0]])\n",
    "        range_of_values = range(num_values)\n",
    "        for row in range_of_values:\n",
    "            row_dict = dict()\n",
    "            for item in values_in_lists:\n",
    "                item_value = values_in_lists[item][row]\n",
    "                row_dict[item] = item_value\n",
    "            result.append(row_dict)\n",
    "    return result"
   ]
  },
  {
   "cell_type": "code",
   "execution_count": 36,
   "metadata": {},
   "outputs": [
    {
     "name": "stdout",
     "output_type": "stream",
     "text": [
      "[{'id': '1', 'type': 'polymer', 'src_method': 'nat', 'pdbx_description': 'HEMOGLOBIN (ALPHA CHAIN)', 'formula_weight': '15150.353', 'pdbx_number_of_molecules': '2', 'pdbx_ec': '?', 'pdbx_mutation': '?', 'pdbx_fragment': '?', 'details': '?'}, {'id': '2', 'type': 'polymer', 'src_method': 'nat', 'pdbx_description': 'HEMOGLOBIN (BETA CHAIN)', 'formula_weight': '15890.198', 'pdbx_number_of_molecules': '2', 'pdbx_ec': '?', 'pdbx_mutation': '?', 'pdbx_fragment': '?', 'details': '?'}, {'id': '3', 'type': 'non-polymer', 'src_method': 'syn', 'pdbx_description': 'PROTOPORPHYRIN IX CONTAINING FE', 'formula_weight': '616.487', 'pdbx_number_of_molecules': '4', 'pdbx_ec': '?', 'pdbx_mutation': '?', 'pdbx_fragment': '?', 'details': '?'}, {'id': '4', 'type': 'water', 'src_method': 'nat', 'pdbx_description': 'water', 'formula_weight': '18.015', 'pdbx_number_of_molecules': '451', 'pdbx_ec': '?', 'pdbx_mutation': '?', 'pdbx_fragment': '?', 'details': '?'}]\n"
     ]
    }
   ],
   "source": [
    "category_list_of_dicts = get_cat_list_of_dict(entity_category)\n",
    "print(category_list_of_dicts)"
   ]
  },
  {
   "cell_type": "code",
   "execution_count": null,
   "metadata": {},
   "outputs": [],
   "source": []
  }
 ],
 "metadata": {
  "kernelspec": {
   "display_name": "Python 3",
   "language": "python",
   "name": "python3"
  },
  "language_info": {
   "codemirror_mode": {
    "name": "ipython",
    "version": 3
   },
   "file_extension": ".py",
   "mimetype": "text/x-python",
   "name": "python",
   "nbconvert_exporter": "python",
   "pygments_lexer": "ipython3",
   "version": "3.7.0"
  }
 },
 "nbformat": 4,
 "nbformat_minor": 2
}
